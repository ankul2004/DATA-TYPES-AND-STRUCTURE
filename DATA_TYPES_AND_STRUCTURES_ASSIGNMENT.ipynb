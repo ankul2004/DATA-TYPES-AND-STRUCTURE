{
  "nbformat": 4,
  "nbformat_minor": 0,
  "metadata": {
    "colab": {
      "provenance": []
    },
    "kernelspec": {
      "name": "python3",
      "display_name": "Python 3"
    },
    "language_info": {
      "name": "python"
    }
  },
  "cells": [
    {
      "cell_type": "code",
      "execution_count": null,
      "metadata": {
        "id": "_XuossMNtl0p"
      },
      "outputs": [],
      "source": [
        "\n"
      ]
    },
    {
      "cell_type": "code",
      "source": [],
      "metadata": {
        "id": "bqAKnJqnTYyD"
      },
      "execution_count": null,
      "outputs": []
    },
    {
      "cell_type": "markdown",
      "source": [],
      "metadata": {
        "id": "6_sKPyOH0hZC"
      }
    },
    {
      "cell_type": "markdown",
      "source": [
        "**Q.1- What are data structures, and why are they important ?**\n",
        "\n",
        "**Ans.-**Data structures are specilized format or conatainers used to store and organize data efficiently.\n",
        "Some Data Structure in python are -\n",
        "\n",
        "\n",
        "*   list\n",
        "*   tuple\n",
        "*   set\n",
        "*   array\n",
        "*   dictonaries\n",
        "*   stack and ques\n",
        "\n",
        "They are important because they provide various ways to access and manipulate data according to specific needs.\n",
        "\n",
        "**Q.2- Explain the difference between mutable and immutable data types with example.**\n",
        "\n",
        "**Ans.-** **Mutable Data types-** Mutable data are those data types which can be changed after creation.\n",
        "\n",
        "**Example-** List,Set,etc.\n",
        "\n",
        "**Immutable data types-** Immutable data can not be modified afer creation.\n",
        "\n",
        "**Example-** Tuple,Dictonary etc.\n",
        "\n",
        "**Q.3- What are the main differences between lists and tuples in Python ?**\n",
        "\n",
        "**Ans.-** List are mutable data types while tuple are immutable data types.\n",
        "\n",
        "\n",
        "**Q.4- Describe how dictionaries store data.**\n",
        "\n",
        "**Ans.-** Dictonaries store the data as key-value pairs.\n",
        "\n",
        "**Q.5- Why might you use a set instead of a list in Python ?**\n",
        "\n",
        "**Ans.-** Because sets do not allow duplicate elements.\n",
        "\n",
        "**Q.6- What is a string in Python, and how is it different from a list ?**\n",
        "\n",
        "**Ans.-** Strings are immutable sequencew of characters enclosed with single or double quotes, while list is a mutable ,ordered sequence of items.\n",
        "\n",
        "**Q.7-  How do tuples ensure data integrity in Python ?**\n",
        "\n",
        "**Ans.-** Tuples are immutable data types. Hence once they created , they can not be changed.\n",
        "\n",
        "**Q.8- What is a hash table, and how does it relate to dictionaries ?**\n",
        "\n",
        "**Ans.-** A hash table is a data structure that store key-value pairs, using a hash function to map keys to indices in an array for fast lookup, and dictonaries are built upon this concept.\n",
        "\n",
        "**Q.9- P Can lists contain different data types in Python ?**\n",
        "\n",
        "**Ans.-** Yes , list can store different data types.\n",
        "\n",
        "**Q.10- Explain why strings are immutable in Python.**\n",
        "\n",
        "**Ans.-** Because they can not be changed after they are created.\n",
        "\n",
        "**Q.11- What advantages do dictionaries offer over lists for certain tasks ?**\n",
        "\n",
        "**Ans.-** Dictonaries are faster than lists for certain tasks like data retrieval and lookups.\n",
        "\n",
        "**Q.12- Describe a scenario where using a tuple would be preferable over alist.**\n",
        "\n",
        "**Ans.-** Use a tuple if you need an immutable collection where the elements won't change after creation.\n",
        "\n",
        "**Q.13- How do sets handle duplicate values in Python ?**\n",
        "\n",
        "**Ans.-** By union operation .\n",
        "\n",
        "**Q.14-  How does the “in” keyword work differently for lists and dictonaries ?**\n",
        "\n",
        "**Ans.-** When \"in\" used with list , it checks a specific element exists as a value in the list.\n",
        "It itewrates through the list and returns True if the element is found , otherwise false.\n",
        "When \"in\" used with dictonary it only check for the presence of a key and not the values.\n",
        "\n",
        "**Q.15- Can you modify the elements of a tuple? Explain why or why not ?**\n",
        "\n",
        "**Ans.-**  No, we can't modify the elements of a tuple . Because tuple are immutable data structure .\n",
        "\n",
        "**Q.16- What is a nested dictionary, and give an example of its use case ?**\n",
        "\n",
        "**Ans.- Nested dictonaries -** Dictonaries can contain other dictonaries as values, forming nested structures .\n",
        "These nested dictonaries can be accessed and manipulated just like any oher dictonaries .\n",
        "\n",
        "**Q.17-Describe the time complexity of accessing elements in a dictonary .**\n",
        "\n",
        "**Ans.-** Average time comlexity = O(1)(constant time)\n",
        "Worst case time coplexity =O(n)(linear time)\n",
        "\n",
        "**Q.18-  In what situations are lists preferred over dictionaries?**\n",
        "\n",
        "**Ans.-** 1.Ordered messages\n",
        "          2.Broadcast mesages\n",
        "  Lists are preferred when orer are neccesary.\n",
        "\n",
        "**Q.19-Why are dictionaries considered unordered, and how does that affect data retrieval ?**\n",
        "\n",
        "**Ans.-** Because they are implemened using hash tables .\n",
        "It affect data retrieval by-\n",
        "Affect on sorting\n",
        "Fa lookup\n",
        "\n",
        "**Q.20- Explain the difference between a list and a dictionary in terms data retriecval.**\n",
        "\n",
        "**Ans.-** List use indexing while dictonary use hashing.\n",
        "\n",
        "\n"
      ],
      "metadata": {
        "id": "53Fj0Qsatzn7"
      }
    },
    {
      "cell_type": "code",
      "source": [
        "#1. Write a code to create a string with your name and print it.\n",
        "name=\"Abhishek Yadav\"\n",
        "print(name)"
      ],
      "metadata": {
        "id": "3g9L7KL6TeJv",
        "colab": {
          "base_uri": "https://localhost:8080/"
        },
        "outputId": "a6d16afe-dbf9-4815-8ce2-324328e0fdbc"
      },
      "execution_count": 1,
      "outputs": [
        {
          "output_type": "stream",
          "name": "stdout",
          "text": [
            "Abhishek Yadav\n"
          ]
        }
      ]
    },
    {
      "cell_type": "code",
      "source": [
        "#2.Write a code to find the length of the string \"Hello World\".\n",
        "str=\"Hello World\"\n",
        "len(str)"
      ],
      "metadata": {
        "colab": {
          "base_uri": "https://localhost:8080/"
        },
        "id": "AK83ZIwwVZmV",
        "outputId": "bc4dc566-bffb-451b-f0af-5aa04e57c031"
      },
      "execution_count": 2,
      "outputs": [
        {
          "output_type": "execute_result",
          "data": {
            "text/plain": [
              "11"
            ]
          },
          "metadata": {},
          "execution_count": 2
        }
      ]
    },
    {
      "cell_type": "code",
      "source": [
        "#3.P Write a code to slice the first 3 characters from the string \"Python Programming\" .\n",
        "str=\"Python Programming\"\n",
        "print(str[:3])\n"
      ],
      "metadata": {
        "colab": {
          "base_uri": "https://localhost:8080/"
        },
        "id": "JdEBVWXsVxuo",
        "outputId": "ab5380f3-3617-420d-af73-c372785067ee"
      },
      "execution_count": 3,
      "outputs": [
        {
          "output_type": "stream",
          "name": "stdout",
          "text": [
            "Pyt\n"
          ]
        }
      ]
    },
    {
      "cell_type": "code",
      "source": [
        "#4.  Write a code to convert the string \"hello\" to uppercase .\n",
        "str=\"hello\"\n",
        "print(str.upper())\n"
      ],
      "metadata": {
        "colab": {
          "base_uri": "https://localhost:8080/"
        },
        "id": "cN_N09G3Wi4W",
        "outputId": "8c19fc12-9aca-4726-bd2d-717db27d03c4"
      },
      "execution_count": 6,
      "outputs": [
        {
          "output_type": "stream",
          "name": "stdout",
          "text": [
            "HELLO\n"
          ]
        }
      ]
    },
    {
      "cell_type": "code",
      "source": [
        "#5.  Write a code to replace the word \"apple\" with \"orange\" in the string \"i like apple\"\n",
        "str=\"i like apple\"\n",
        "print(str.replace(\"apple\",\"orange\"))"
      ],
      "metadata": {
        "colab": {
          "base_uri": "https://localhost:8080/"
        },
        "id": "n-JeSO_yX8kH",
        "outputId": "ba0551c2-abae-4123-973e-11d5de3322b6"
      },
      "execution_count": 8,
      "outputs": [
        {
          "output_type": "stream",
          "name": "stdout",
          "text": [
            "i like orange\n"
          ]
        }
      ]
    },
    {
      "cell_type": "code",
      "source": [
        "#6.P Write a code to create a list with numbers 1 to 5 and print it.\n",
        "lst=[1,2,3,4,5]\n",
        "print(lst)"
      ],
      "metadata": {
        "colab": {
          "base_uri": "https://localhost:8080/"
        },
        "id": "HNQ8iZukYtIM",
        "outputId": "a822ee23-b69f-419b-9e82-2c6fef18d2ed"
      },
      "execution_count": 9,
      "outputs": [
        {
          "output_type": "stream",
          "name": "stdout",
          "text": [
            "[1, 2, 3, 4, 5]\n"
          ]
        }
      ]
    },
    {
      "cell_type": "code",
      "source": [
        "#7. Write a code to append the number 10 to the list [1, 2, 3, 4].\n",
        "lst=[1,2,3,4]\n",
        "lst.append(10)\n",
        "print(lst)\n",
        "\n"
      ],
      "metadata": {
        "colab": {
          "base_uri": "https://localhost:8080/"
        },
        "id": "1BbMTbLTZB_F",
        "outputId": "05d49ae3-4106-463f-efd5-78d354e75ef0"
      },
      "execution_count": 11,
      "outputs": [
        {
          "output_type": "stream",
          "name": "stdout",
          "text": [
            "[1, 2, 3, 4, 10]\n"
          ]
        }
      ]
    },
    {
      "cell_type": "code",
      "source": [
        "#8. Write a code to remove the number 3 from the list [1, 2, 3, 4, 5]\n",
        "lst=[1,2,3,4,5]\n",
        "lst.remove(3)\n",
        "print(lst)\n"
      ],
      "metadata": {
        "colab": {
          "base_uri": "https://localhost:8080/"
        },
        "id": "_7hPhV9UZ9B1",
        "outputId": "d12606df-7892-4a95-8595-d42ca4a6ba34"
      },
      "execution_count": 12,
      "outputs": [
        {
          "output_type": "stream",
          "name": "stdout",
          "text": [
            "[1, 2, 4, 5]\n"
          ]
        }
      ]
    },
    {
      "cell_type": "code",
      "source": [
        "#9.  Write a code to access the second element in the list  ['a', 'b', 'c', 'd'].\n",
        "lst=['a','b','c','d']\n",
        "print(lst[1])"
      ],
      "metadata": {
        "colab": {
          "base_uri": "https://localhost:8080/"
        },
        "id": "E8ihCpLraaLT",
        "outputId": "da20846f-d7fe-4d35-c8cc-a4f4ba1f8e16"
      },
      "execution_count": 13,
      "outputs": [
        {
          "output_type": "stream",
          "name": "stdout",
          "text": [
            "b\n"
          ]
        }
      ]
    },
    {
      "cell_type": "code",
      "source": [
        "#10.  Write a code to reverse the list [10, 20, 30, 40, 50].\n",
        "lst=[10,20,30,40,50]\n",
        "lst.reverse()\n",
        "print(lst)"
      ],
      "metadata": {
        "colab": {
          "base_uri": "https://localhost:8080/"
        },
        "id": "QEXSXbQdbIjJ",
        "outputId": "22fd1482-3716-4671-ddbb-936292072c8a"
      },
      "execution_count": 16,
      "outputs": [
        {
          "output_type": "stream",
          "name": "stdout",
          "text": [
            "[50, 40, 30, 20, 10]\n"
          ]
        }
      ]
    },
    {
      "cell_type": "code",
      "source": [
        "#11.  Write a code to create a tuple with the elements 100, 200, 300 and print it.\n",
        "tup=(100,200,300)\n",
        "print(tup)"
      ],
      "metadata": {
        "colab": {
          "base_uri": "https://localhost:8080/"
        },
        "id": "YXCUw7_TcFnR",
        "outputId": "00a55252-2425-46be-cfb0-fc3e1f43a137"
      },
      "execution_count": 17,
      "outputs": [
        {
          "output_type": "stream",
          "name": "stdout",
          "text": [
            "(100, 200, 300)\n"
          ]
        }
      ]
    },
    {
      "cell_type": "code",
      "source": [
        "#12.  Write a code to access the second-to-last element of tuple ('red', 'green', 'blue', 'yellow').\n",
        "tup=('red','green','blue','yellow')\n",
        "print(tup[-2])"
      ],
      "metadata": {
        "colab": {
          "base_uri": "https://localhost:8080/"
        },
        "id": "MIqQkPABccXF",
        "outputId": "65066e94-6fc1-4c63-dfb3-2b289efcf474"
      },
      "execution_count": 18,
      "outputs": [
        {
          "output_type": "stream",
          "name": "stdout",
          "text": [
            "blue\n"
          ]
        }
      ]
    },
    {
      "cell_type": "code",
      "source": [
        "#13.  Write a code to find the minimum number in the tuple (10, 20, 5, 15).\n",
        "tup=(10,20,5,15)\n",
        "print(min(tup))"
      ],
      "metadata": {
        "colab": {
          "base_uri": "https://localhost:8080/"
        },
        "id": "8ehfZyOfc6mw",
        "outputId": "fdd6c1b2-91bd-4527-bc5d-2f54e95047a8"
      },
      "execution_count": 19,
      "outputs": [
        {
          "output_type": "stream",
          "name": "stdout",
          "text": [
            "5\n"
          ]
        }
      ]
    },
    {
      "cell_type": "code",
      "source": [
        "#14.  Write a code to find the index of the element \"cat\" in the tuple ('dog', 'cat', 'rabbit').\n",
        "tup=('dog','cat','rabbit')\n",
        "print(tup.index('cat'))"
      ],
      "metadata": {
        "colab": {
          "base_uri": "https://localhost:8080/"
        },
        "id": "DFKl1RhpdfGC",
        "outputId": "ac4626e4-3bc7-434d-e07b-b6313acb1364"
      },
      "execution_count": 20,
      "outputs": [
        {
          "output_type": "stream",
          "name": "stdout",
          "text": [
            "1\n"
          ]
        }
      ]
    },
    {
      "cell_type": "code",
      "source": [
        "#15.  Write a code to create a tuple containing three different fruits and check if \"kiwi\" is in it.\n",
        "fruits=(\"aple\",\"mango\",\"orange\")\n",
        "if \"kiwi\" in fruits:\n",
        "  print(\"Yes, kiwi is there.\")\n",
        "else:\n",
        "  print(\"No, kiwi is not there.\")"
      ],
      "metadata": {
        "colab": {
          "base_uri": "https://localhost:8080/"
        },
        "id": "gme8yJaEeSpf",
        "outputId": "e87304a3-029f-44d1-e6bb-75c0ef2c0dad"
      },
      "execution_count": 21,
      "outputs": [
        {
          "output_type": "stream",
          "name": "stdout",
          "text": [
            "No, kiwi is not there.\n"
          ]
        }
      ]
    },
    {
      "cell_type": "code",
      "source": [
        "#16.  Write a code to create a set with the elements 'a', 'b', 'c' and print it.\n",
        "my_set={'a','b','c'}\n",
        "print(my_set)"
      ],
      "metadata": {
        "colab": {
          "base_uri": "https://localhost:8080/"
        },
        "id": "FtmnuAmef5k_",
        "outputId": "d72ea3b8-a769-4476-cac8-2a6cdd539c83"
      },
      "execution_count": 22,
      "outputs": [
        {
          "output_type": "stream",
          "name": "stdout",
          "text": [
            "{'a', 'c', 'b'}\n"
          ]
        }
      ]
    },
    {
      "cell_type": "code",
      "source": [
        "#17. Write a code to clear all elements from the set {1, 2, 3, 4, 5}.\n",
        "my_set={1,2,3,4,5}\n",
        "my_set.clear()\n",
        "print(my_set)"
      ],
      "metadata": {
        "colab": {
          "base_uri": "https://localhost:8080/"
        },
        "id": "E2m_4GBNgdxq",
        "outputId": "2cc105e2-9722-4ab3-f00a-5e353f1e448d"
      },
      "execution_count": 25,
      "outputs": [
        {
          "output_type": "stream",
          "name": "stdout",
          "text": [
            "set()\n"
          ]
        }
      ]
    },
    {
      "cell_type": "code",
      "source": [
        "#18.  Write a code to remove the element 4 from the set {1, 2, 3, 4}.\n",
        "my_set={1,2,3,4}\n",
        "my_set.remove(4)\n",
        "print(my_set)"
      ],
      "metadata": {
        "colab": {
          "base_uri": "https://localhost:8080/"
        },
        "id": "kNCMkCRJhVFB",
        "outputId": "331a9b37-92e5-478f-c92a-f150cb8e39ba"
      },
      "execution_count": 26,
      "outputs": [
        {
          "output_type": "stream",
          "name": "stdout",
          "text": [
            "{1, 2, 3}\n"
          ]
        }
      ]
    },
    {
      "cell_type": "code",
      "source": [
        "#19.  Write a code to find the union of two sets {1, 2, 3} and {3,4,5}.\n",
        "set1={1,2,3}\n",
        "set2={3,4,5}\n",
        "print(set1.union(set2))"
      ],
      "metadata": {
        "colab": {
          "base_uri": "https://localhost:8080/"
        },
        "id": "biOBRdByhrI0",
        "outputId": "b17986e7-d799-4cfa-9904-a12c761dfc6b"
      },
      "execution_count": 27,
      "outputs": [
        {
          "output_type": "stream",
          "name": "stdout",
          "text": [
            "{1, 2, 3, 4, 5}\n"
          ]
        }
      ]
    },
    {
      "cell_type": "code",
      "source": [
        "#20. 0. Write a code to find the intersection of two sets {1, 2, 3} and {2, 3, 4}.\n",
        "set1={1,2,3}\n",
        "set2={2,3,4}\n",
        "print(set1.intersection(set2))"
      ],
      "metadata": {
        "colab": {
          "base_uri": "https://localhost:8080/"
        },
        "id": "NtRSw9KDiE4-",
        "outputId": "45c6ac87-3ef2-4506-8b8b-1d59db5fb663"
      },
      "execution_count": 28,
      "outputs": [
        {
          "output_type": "stream",
          "name": "stdout",
          "text": [
            "{2, 3}\n"
          ]
        }
      ]
    },
    {
      "cell_type": "code",
      "source": [
        "#21.  Write a code to create a dictionary with the keys \"name\", \"age\", and \"city\", and print it.\n",
        "dict={\"Name\":\"Abhishek Yadav\",\"Age\":\"20\",\"City\":\"Banda\"}\n",
        "print(dict)"
      ],
      "metadata": {
        "colab": {
          "base_uri": "https://localhost:8080/"
        },
        "id": "4R_hrd9rihIt",
        "outputId": "4259dd58-6ca0-4a56-cf6b-f03967baf7a0"
      },
      "execution_count": 29,
      "outputs": [
        {
          "output_type": "stream",
          "name": "stdout",
          "text": [
            "{'Name': 'Abhishek Yadav', 'Age': '20', 'City': 'Banda'}\n"
          ]
        }
      ]
    },
    {
      "cell_type": "code",
      "source": [
        "#22.  Write a code to add a new key-value pair \"country\": \"USA\" to the dictionary {'name': 'John', 'age': 25}.\n",
        "dict={'name':'John','age':'25'}\n",
        "dict['country']='USA'\n",
        "print(dict)\n",
        "\n"
      ],
      "metadata": {
        "colab": {
          "base_uri": "https://localhost:8080/"
        },
        "id": "RQbEzghRjV11",
        "outputId": "6d4239b6-fdeb-4fe8-fb95-e70c80c4279f"
      },
      "execution_count": 30,
      "outputs": [
        {
          "output_type": "stream",
          "name": "stdout",
          "text": [
            "{'name': 'John', 'age': '25', 'country': 'USA'}\n"
          ]
        }
      ]
    },
    {
      "cell_type": "code",
      "source": [
        "#23. Write a code to access the value associated with the key \"name\" in the dictionary {'name': 'Alice', 'age': 30}.\n",
        "dict={'name':'Alice','age':'30'}\n",
        "print(dict['name'])"
      ],
      "metadata": {
        "colab": {
          "base_uri": "https://localhost:8080/"
        },
        "id": "64CsrSbSkImq",
        "outputId": "7da9655a-6093-4f6e-f6b1-c3195610bca5"
      },
      "execution_count": 31,
      "outputs": [
        {
          "output_type": "stream",
          "name": "stdout",
          "text": [
            "Alice\n"
          ]
        }
      ]
    },
    {
      "cell_type": "code",
      "source": [
        "#24.  Write a code to remove the key \"age\" from the dictionary  {'name': 'Bob', 'age': 22, 'city': 'New York'}\n",
        "dict={'name': 'Bob', 'age': 22, 'city': 'New York'}\n",
        "del dict['age']\n",
        "print(dict)"
      ],
      "metadata": {
        "colab": {
          "base_uri": "https://localhost:8080/"
        },
        "id": "pumt2iISkn0K",
        "outputId": "9742dd4d-07bb-4a12-b71c-c5054a9d81f9"
      },
      "execution_count": 32,
      "outputs": [
        {
          "output_type": "stream",
          "name": "stdout",
          "text": [
            "{'name': 'Bob', 'city': 'New York'}\n"
          ]
        }
      ]
    },
    {
      "cell_type": "code",
      "source": [
        "#25.  Write a code to check if the key \"city\" exists in the dictionary {'name': 'Alice', 'city': 'Paris'}.\n",
        "dict={'name': 'Alice', 'city': 'Paris'}\n",
        "if 'city' in dict:\n",
        "  print(\"The key 'city' exist in the dictionary.\")\n",
        "else:\n",
        "  print(\"The key 'city' does not exist in the dictionary.\")"
      ],
      "metadata": {
        "colab": {
          "base_uri": "https://localhost:8080/"
        },
        "id": "W3RFBGaclC-l",
        "outputId": "3c938adb-22e7-4539-9f80-991c6f6ecfac"
      },
      "execution_count": 36,
      "outputs": [
        {
          "output_type": "stream",
          "name": "stdout",
          "text": [
            "The key 'city' exist in the dictionary.\n"
          ]
        }
      ]
    },
    {
      "cell_type": "code",
      "source": [
        "#26.  Write a code to create a list, a tuple, and a dictionary, and print them all.\n",
        "lst=[1,2,3,4,5]\n",
        "tup=(1,2,3,4,5)\n",
        "dict={'name':'Abhishek','age':'20','city':'Banda'}\n",
        "print(lst)\n",
        "print(tup)\n",
        "print(dict)"
      ],
      "metadata": {
        "colab": {
          "base_uri": "https://localhost:8080/"
        },
        "id": "sXBVuYZwmfsG",
        "outputId": "e0feb39f-661e-4f66-e30f-0727283244e4"
      },
      "execution_count": 37,
      "outputs": [
        {
          "output_type": "stream",
          "name": "stdout",
          "text": [
            "[1, 2, 3, 4, 5]\n",
            "(1, 2, 3, 4, 5)\n",
            "{'name': 'Abhishek', 'age': '20', 'city': 'Banda'}\n"
          ]
        }
      ]
    },
    {
      "cell_type": "code",
      "source": [
        "#27.  Write a code to create a list of 5 random numbers between 1 and 100, sort it in ascending order, and print the result.(replaced).\n",
        "import random\n",
        "lst=[]\n",
        "for i in range(5):\n",
        "  lst.append(random.randint(1,100))\n",
        "  lst.sort()\n",
        "  print(lst)\n",
        "\n"
      ],
      "metadata": {
        "colab": {
          "base_uri": "https://localhost:8080/"
        },
        "id": "4g5KKrWbnOxt",
        "outputId": "fdfd5eed-7fe6-4c7f-f713-468c040a943f"
      },
      "execution_count": 38,
      "outputs": [
        {
          "output_type": "stream",
          "name": "stdout",
          "text": [
            "[9]\n",
            "[9, 22]\n",
            "[9, 16, 22]\n",
            "[9, 16, 22, 54]\n",
            "[9, 16, 22, 54, 75]\n"
          ]
        }
      ]
    },
    {
      "cell_type": "code",
      "source": [
        " #28.  Write a code to create a list with strings and print the element at the third index.\n",
        " lst=['ankul','20','mohit','ramesh']\n",
        " print(lst[2])"
      ],
      "metadata": {
        "colab": {
          "base_uri": "https://localhost:8080/"
        },
        "id": "qe-xVYCWoKOI",
        "outputId": "332acecd-23e1-47ab-fa09-b02cd5fa920c"
      },
      "execution_count": 39,
      "outputs": [
        {
          "output_type": "stream",
          "name": "stdout",
          "text": [
            "mohit\n"
          ]
        }
      ]
    },
    {
      "cell_type": "code",
      "source": [
        "#29.  Write a code to combine two dictionaries into one and  print the result.\n",
        "dict1={'name':'Abhishek','age':'20'}\n",
        "dict2={'city':'Banda','country':'India'}\n",
        "dict1.update(dict2)\n",
        "print(dict1)\n"
      ],
      "metadata": {
        "colab": {
          "base_uri": "https://localhost:8080/"
        },
        "id": "BLJ9YdxZotT0",
        "outputId": "c4bdcc50-fd16-4af6-ab60-59141400a1f8"
      },
      "execution_count": 43,
      "outputs": [
        {
          "output_type": "stream",
          "name": "stdout",
          "text": [
            "{'name': 'Abhishek', 'age': '20', 'city': 'Banda', 'country': 'India'}\n"
          ]
        }
      ]
    },
    {
      "cell_type": "code",
      "source": [
        "#30.  Write a code to convert a list of strings into a set.\n",
        "lst=['anuj','ankul','mohit']\n",
        "my_set=set(lst)\n",
        "print(my_set)"
      ],
      "metadata": {
        "colab": {
          "base_uri": "https://localhost:8080/"
        },
        "id": "LRPFfYBEprhE",
        "outputId": "ed599c98-0cfb-4d15-ea83-8ad8fd0827c0"
      },
      "execution_count": 44,
      "outputs": [
        {
          "output_type": "stream",
          "name": "stdout",
          "text": [
            "{'mohit', 'ankul', 'anuj'}\n"
          ]
        }
      ]
    },
    {
      "cell_type": "code",
      "source": [],
      "metadata": {
        "id": "9Mbrm6UWtNBN"
      },
      "execution_count": null,
      "outputs": []
    }
  ]
}